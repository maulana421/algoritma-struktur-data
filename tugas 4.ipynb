{
 "cells": [
  {
   "cell_type": "code",
   "execution_count": 8,
   "metadata": {},
   "outputs": [
    {
     "name": "stdout",
     "output_type": "stream",
     "text": [
      "hasil 20 + 5 = 25\n",
      "hasil 20 - 5 = 15\n",
      "hasil 20 * 5 = 100\n",
      "hasil 20 / 5 = 4.0\n",
      "hasil 20 % 5 = 0\n",
      "hasil 20 ** 5 = 3200000\n"
     ]
    }
   ],
   "source": [
    "#maulana\n",
    "a=20\n",
    "b=5\n",
    "\n",
    "#operasi penjumlahan\n",
    "c=a+b\n",
    "print(\"hasil\", a, \"+\" ,b, \"=\", c)\n",
    "\n",
    "#operasi pengurangan\n",
    "d=a-b\n",
    "print(\"hasil\", a, \"-\" ,b, \"=\", d)\n",
    "\n",
    "#operasi perkalian\n",
    "e=a*b\n",
    "print(\"hasil\", a, \"*\" ,b, \"=\", e)\n",
    "\n",
    "#operasi pembagian\n",
    "f=a/b\n",
    "print(\"hasil\", a, \"/\" ,b, \"=\", f)\n",
    "\n",
    "#operasi sisa bagi\n",
    "g=a%b\n",
    "print(\"hasil\", a, \"%\" ,b, \"=\", g)\n",
    "\n",
    "#operasi pemangkatan\n",
    "h=a**b\n",
    "print(\"hasil\", a, \"**\" ,b, \"=\", h)"
   ]
  },
  {
   "cell_type": "code",
   "execution_count": 16,
   "metadata": {},
   "outputs": [
    {
     "name": "stdout",
     "output_type": "stream",
     "text": [
      "19\n",
      "24\n",
      "5\n",
      "75\n",
      "5.0\n",
      "4\n",
      "25\n"
     ]
    }
   ],
   "source": [
    "#maulanaa\n",
    "#operasi penugasan penjumlahan\n",
    "a=19\n",
    "print(a)\n",
    "a+=5\n",
    "print(a)\n",
    "\n",
    "#opeasi penugasan pengurangan\n",
    "b=10\n",
    "b-=5\n",
    "print(b)\n",
    "\n",
    "#operasi penugasan perkalian\n",
    "c=15\n",
    "c*=5\n",
    "print(c)\n",
    "\n",
    "#operasi penugasan pembagian\n",
    "d=20\n",
    "d/=4\n",
    "print(d)\n",
    "\n",
    "#operasi penugasan sisa bagi\n",
    "e=19\n",
    "e%=5\n",
    "print(e)\n",
    "\n",
    "#operasi penugasan pemangkatan\n",
    "f=5\n",
    "f**=2\n",
    "print(f)"
   ]
  },
  {
   "cell_type": "code",
   "execution_count": 2,
   "metadata": {},
   "outputs": [
    {
     "name": "stdout",
     "output_type": "stream",
     "text": [
      "apakah a lebih besar dari b : False\n",
      "apakah a lebih besar dari b : True\n",
      "apakah a lebih kecil dari b : False\n",
      "apakah a tidak sama dengan b : True\n",
      "apakah a lebih besar sama dengan dengan b : True\n",
      "apakah a kurang dari sama dengan b : False\n"
     ]
    }
   ],
   "source": [
    "a=15\n",
    "b=10\n",
    "\n",
    "#operator sama dengan\n",
    "c=a==b\n",
    "print(\"apakah a lebih besar dari b :\",c)\n",
    "\n",
    "d=a>b\n",
    "print(\"apakah a lebih besar dari b :\",d)\n",
    "\n",
    "#operator kurang dari\n",
    "e=a<b\n",
    "print(\"apakah a lebih kecil dari b :\",e)\n",
    "\n",
    "#operator tidak sama dengan\n",
    "f=a!=b\n",
    "print(\"apakah a tidak sama dengan b :\",f)\n",
    "\n",
    "#operator lebih besar sama dengan\n",
    "g=a>=b\n",
    "print(\"apakah a lebih besar sama dengan dengan b :\",g)\n",
    "\n",
    "#operator lebih besar sama dengan\n",
    "h=a<=b\n",
    "print(\"apakah a kurang dari sama dengan b :\",h)"
   ]
  },
  {
   "cell_type": "code",
   "execution_count": 7,
   "metadata": {},
   "outputs": [
    {
     "name": "stdout",
     "output_type": "stream",
     "text": [
      "False\n",
      "True\n",
      "True\n"
     ]
    }
   ],
   "source": [
    "#operator logika\n",
    "a= True\n",
    "b= False\n",
    "\n",
    "#logika AND\n",
    "c=a and b\n",
    "print(c)\n",
    "\n",
    "#operator logika OR\n",
    "e=a or b\n",
    "print(e)\n",
    "\n",
    "#logika negasi/kebalikan\n",
    "f= not b\n",
    "print(f)"
   ]
  },
  {
   "cell_type": "code",
   "execution_count": 9,
   "metadata": {},
   "outputs": [
    {
     "name": "stdout",
     "output_type": "stream",
     "text": [
      "masukan nama bayimedusa\n",
      "masukan berat bayi dalam kg4\n",
      "nama bayi adalah  medusa\n",
      "berat bayi dalam kg  4\n",
      "berat bayi dalam ons  40\n",
      "berat bayi 1 bulan kedepan ditambah 30 ons menjadi  70\n"
     ]
    }
   ],
   "source": [
    "#masukan input\n",
    "name=input(\"masukan nama bayi\")\n",
    "bb=int(input(\"masukan berat bayi dalam kg\"))\n",
    "\n",
    "ons1=bb *10\n",
    "ons2=ons1 + 30\n",
    "\n",
    "#masukan output\n",
    "print(\"nama bayi adalah \",name)\n",
    "print(\"berat bayi dalam kg \", bb)\n",
    "print(\"berat bayi dalam ons \", ons1)\n",
    "print(\"berat bayi 1 bulan kedepan ditambah 30 ons menjadi \", ons2)"
   ]
  }
 ],
 "metadata": {
  "kernelspec": {
   "display_name": "Python 3",
   "language": "python",
   "name": "python3"
  },
  "language_info": {
   "codemirror_mode": {
    "name": "ipython",
    "version": 3
   },
   "file_extension": ".py",
   "mimetype": "text/x-python",
   "name": "python",
   "nbconvert_exporter": "python",
   "pygments_lexer": "ipython3",
   "version": "3.8.3"
  }
 },
 "nbformat": 4,
 "nbformat_minor": 4
}
