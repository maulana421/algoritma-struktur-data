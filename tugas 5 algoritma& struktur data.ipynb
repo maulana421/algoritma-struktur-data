{
 "cells": [
  {
   "cell_type": "code",
   "execution_count": 1,
   "metadata": {},
   "outputs": [
    {
     "name": "stdout",
     "output_type": "stream",
     "text": [
      "because i proud to make something\n",
      "i like programming\n"
     ]
    }
   ],
   "source": [
    "#maulana\n",
    "#membuat fungsi 1\n",
    "def sy():\n",
    "    print(\"because i proud to make something\")\n",
    "#membuat fungsi 2\n",
    "def xy():\n",
    "    print(\"i like programming\")\n",
    "#memanggil fungsi 1&2\n",
    "sy()\n",
    "xy()"
   ]
  },
  {
   "cell_type": "code",
   "execution_count": 3,
   "metadata": {},
   "outputs": [
    {
     "name": "stdout",
     "output_type": "stream",
     "text": [
      "nama saya maulana ibnu\n",
      "nama saya maulana ibnu\n",
      "luas persegi panjang adalah 50\n",
      "luas persegi panjang adalah 5000\n"
     ]
    }
   ],
   "source": [
    "def a():\n",
    "    nama=input(\"nama saya \")\n",
    "    print(\"nama saya\",nama)\n",
    "def luas_pp(P, L) :\n",
    "    luas= P * L\n",
    "    print(\"luas persegi panjang adalah\",luas)\n",
    "a()\n",
    "luas_pp(5,10)\n",
    "luas_pp(100,50)"
   ]
  },
  {
   "cell_type": "code",
   "execution_count": 10,
   "metadata": {},
   "outputs": [
    {
     "name": "stdout",
     "output_type": "stream",
     "text": [
      "panjang=10\n",
      "lebar=10\n",
      "tinggi=10\n",
      "luas persegi panjang 100\n",
      "volume persegi panjang 1000\n"
     ]
    }
   ],
   "source": [
    "panjang=int(input(\"panjang=\"))\n",
    "lebar=int(input(\"lebar=\"))\n",
    "tinggi=int(input(\"tinggi=\"))\n",
    "def c():\n",
    "    luas=(panjang*lebar)\n",
    "    return luas\n",
    "def d():\n",
    "    volume=(panjang*lebar*tinggi)\n",
    "    return volume\n",
    "print(\"luas persegi panjang\",c())\n",
    "print(\"volume persegi panjang\",d())"
   ]
  },
  {
   "cell_type": "code",
   "execution_count": 11,
   "metadata": {},
   "outputs": [
    {
     "name": "stdout",
     "output_type": "stream",
     "text": [
      "jumlah mangga:7\n",
      "jumlah jeruk:8\n",
      "apakah mangga sama dengan jeruk ? False\n",
      "apakah mangga lebih besar dari jeruk False\n"
     ]
    }
   ],
   "source": [
    "mangga=int(input(\"jumlah mangga:\"))\n",
    "jeruk=int(input(\"jumlah jeruk:\"))\n",
    "def t():\n",
    "    a=(mangga == jeruk)\n",
    "    return a\n",
    "def u():\n",
    "    b=(mangga > jeruk)\n",
    "    return b\n",
    "print(\"apakah mangga sama dengan jeruk ?\",t())\n",
    "print(\"apakah mangga lebih besar dari jeruk\",u())"
   ]
  }
 ],
 "metadata": {
  "kernelspec": {
   "display_name": "Python 3",
   "language": "python",
   "name": "python3"
  },
  "language_info": {
   "codemirror_mode": {
    "name": "ipython",
    "version": 3
   },
   "file_extension": ".py",
   "mimetype": "text/x-python",
   "name": "python",
   "nbconvert_exporter": "python",
   "pygments_lexer": "ipython3",
   "version": "3.8.3"
  }
 },
 "nbformat": 4,
 "nbformat_minor": 4
}
