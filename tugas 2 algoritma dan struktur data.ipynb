{
 "cells": [
  {
   "cell_type": "code",
   "execution_count": 4,
   "metadata": {},
   "outputs": [
    {
     "name": "stdout",
     "output_type": "stream",
     "text": [
      "saya suka programming\n",
      "saya suka programming\n",
      "saya suka programming\n",
      "saya suka programming\n",
      "saya suka programming\n"
     ]
    }
   ],
   "source": [
    "print (\"saya suka programming\")\n",
    "print (\"saya suka programming\")\n",
    "print (\"saya suka programming\")\n",
    "print (\"saya suka programming\")\n",
    "print (\"saya suka programming\")"
   ]
  },
  {
   "cell_type": "code",
   "execution_count": 6,
   "metadata": {},
   "outputs": [
    {
     "name": "stdout",
     "output_type": "stream",
     "text": [
      "jadi luas lingkaran =  615.44\n"
     ]
    }
   ],
   "source": [
    "r=14\n",
    "p=3.14\n",
    "L=p*r*r\n",
    "print(\"jadi luas lingkaran = \",L)"
   ]
  },
  {
   "cell_type": "code",
   "execution_count": 7,
   "metadata": {},
   "outputs": [
    {
     "name": "stdout",
     "output_type": "stream",
     "text": [
      "saya Maulana, saya membuat program menghitung balok\n",
      "panjang =  5\n",
      "lebar =  7\n",
      "tinggi = 10\n",
      "sehingga volume balok =  350\n"
     ]
    }
   ],
   "source": [
    "p = 5\n",
    "l = 7\n",
    "t = 10\n",
    "V = p*l*t\n",
    "print (\"saya Maulana, saya membuat program menghitung balok\")\n",
    "print (\"panjang = \",p)\n",
    "print (\"lebar = \",l)\n",
    "print (\"tinggi =\",t)\n",
    "print (\"sehingga volume balok = \",V)\n",
    "       "
   ]
  },
  {
   "cell_type": "code",
   "execution_count": 8,
   "metadata": {},
   "outputs": [
    {
     "name": "stdout",
     "output_type": "stream",
     "text": [
      "saya maulana, IPK saya saat ini = 4.0\n"
     ]
    }
   ],
   "source": [
    "IPK=4.00\n",
    "print(\"saya maulana, IPK saya saat ini =\",IPK)\n"
   ]
  },
  {
   "cell_type": "code",
   "execution_count": null,
   "metadata": {},
   "outputs": [],
   "source": []
  }
 ],
 "metadata": {
  "kernelspec": {
   "display_name": "Python 3",
   "language": "python",
   "name": "python3"
  },
  "language_info": {
   "codemirror_mode": {
    "name": "ipython",
    "version": 3
   },
   "file_extension": ".py",
   "mimetype": "text/x-python",
   "name": "python",
   "nbconvert_exporter": "python",
   "pygments_lexer": "ipython3",
   "version": "3.8.3"
  }
 },
 "nbformat": 4,
 "nbformat_minor": 4
}
