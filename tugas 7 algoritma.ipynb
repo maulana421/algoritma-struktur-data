{
 "cells": [
  {
   "cell_type": "code",
   "execution_count": 1,
   "metadata": {},
   "outputs": [
    {
     "name": "stdout",
     "output_type": "stream",
     "text": [
      "saya tidak akan mengulangi perbuatan itu lagi\n",
      "saya tidak akan mengulangi perbuatan itu lagi\n",
      "saya tidak akan mengulangi perbuatan itu lagi\n",
      "saya tidak akan mengulangi perbuatan itu lagi\n",
      "saya tidak akan mengulangi perbuatan itu lagi\n",
      "saya tidak akan mengulangi perbuatan itu lagi\n",
      "saya tidak akan mengulangi perbuatan itu lagi\n",
      "saya tidak akan mengulangi perbuatan itu lagi\n",
      "saya tidak akan mengulangi perbuatan itu lagi\n",
      "saya tidak akan mengulangi perbuatan itu lagi\n",
      "saya tidak akan mengulangi perbuatan itu lagi\n",
      "saya tidak akan mengulangi perbuatan itu lagi\n",
      "saya tidak akan mengulangi perbuatan itu lagi\n",
      "saya tidak akan mengulangi perbuatan itu lagi\n",
      "saya tidak akan mengulangi perbuatan itu lagi\n",
      "saya tidak akan mengulangi perbuatan itu lagi\n",
      "saya tidak akan mengulangi perbuatan itu lagi\n",
      "saya tidak akan mengulangi perbuatan itu lagi\n",
      "saya tidak akan mengulangi perbuatan itu lagi\n",
      "saya tidak akan mengulangi perbuatan itu lagi\n",
      "saya tidak akan mengulangi perbuatan itu lagi\n",
      "saya tidak akan mengulangi perbuatan itu lagi\n",
      "saya tidak akan mengulangi perbuatan itu lagi\n",
      "saya tidak akan mengulangi perbuatan itu lagi\n",
      "saya tidak akan mengulangi perbuatan itu lagi\n"
     ]
    }
   ],
   "source": [
    "#maulana ibnu fajar\n",
    "#no1 perulangan menggunakan for\n",
    "l= 25\n",
    "for i in range(l):\n",
    "    print(\"saya tidak akan mengulangi perbuatan itu lagi\")"
   ]
  },
  {
   "cell_type": "code",
   "execution_count": 2,
   "metadata": {},
   "outputs": [
    {
     "name": "stdout",
     "output_type": "stream",
     "text": [
      "1  Saya Tidak Akan Mengulangi Perbuatan Itu Lagi \n",
      "2  Saya Tidak Akan Mengulangi Perbuatan Itu Lagi \n",
      "3  Saya Tidak Akan Mengulangi Perbuatan Itu Lagi \n",
      "4  Saya Tidak Akan Mengulangi Perbuatan Itu Lagi \n",
      "5  Saya Tidak Akan Mengulangi Perbuatan Itu Lagi \n",
      "6  Saya Tidak Akan Mengulangi Perbuatan Itu Lagi \n",
      "7  Saya Tidak Akan Mengulangi Perbuatan Itu Lagi \n",
      "8  Saya Tidak Akan Mengulangi Perbuatan Itu Lagi \n",
      "9  Saya Tidak Akan Mengulangi Perbuatan Itu Lagi \n",
      "10  Saya Tidak Akan Mengulangi Perbuatan Itu Lagi \n",
      "11  Saya Tidak Akan Mengulangi Perbuatan Itu Lagi \n",
      "12  Saya Tidak Akan Mengulangi Perbuatan Itu Lagi \n",
      "13  Saya Tidak Akan Mengulangi Perbuatan Itu Lagi \n",
      "14  Saya Tidak Akan Mengulangi Perbuatan Itu Lagi \n",
      "15  Saya Tidak Akan Mengulangi Perbuatan Itu Lagi \n",
      "16  Saya Tidak Akan Mengulangi Perbuatan Itu Lagi \n",
      "17  Saya Tidak Akan Mengulangi Perbuatan Itu Lagi \n",
      "18  Saya Tidak Akan Mengulangi Perbuatan Itu Lagi \n",
      "19  Saya Tidak Akan Mengulangi Perbuatan Itu Lagi \n",
      "20  Saya Tidak Akan Mengulangi Perbuatan Itu Lagi \n",
      "21  Saya Tidak Akan Mengulangi Perbuatan Itu Lagi \n",
      "22  Saya Tidak Akan Mengulangi Perbuatan Itu Lagi \n",
      "23  Saya Tidak Akan Mengulangi Perbuatan Itu Lagi \n",
      "24  Saya Tidak Akan Mengulangi Perbuatan Itu Lagi \n",
      "25  Saya Tidak Akan Mengulangi Perbuatan Itu Lagi \n"
     ]
    }
   ],
   "source": [
    "#maulana ibnu fajar\n",
    "#no 1 perulangan menggunakan while\n",
    "\n",
    "i = 1\n",
    "while i <= 25 :\n",
    "    print (i , ' Saya Tidak Akan Mengulangi Perbuatan Itu Lagi ')\n",
    "    i +=1"
   ]
  },
  {
   "cell_type": "code",
   "execution_count": 5,
   "metadata": {},
   "outputs": [
    {
     "name": "stdout",
     "output_type": "stream",
     "text": [
      "15 True\n",
      "14 True\n",
      "13 True\n",
      "12 True\n",
      "11 True\n",
      "10 False\n",
      "9 False\n",
      "8 False\n",
      "7 False\n",
      "6 False\n",
      "5 False\n",
      "4 False\n",
      "3 False\n",
      "2 False\n",
      "1 False\n"
     ]
    }
   ],
   "source": [
    "#maulana ibnu fajar\n",
    "#no 2 perulangan for\n",
    "\n",
    "x = 15\n",
    "for i in range (x) :\n",
    "    print (x, x > 10)\n",
    "    x = x - 1"
   ]
  },
  {
   "cell_type": "code",
   "execution_count": 6,
   "metadata": {},
   "outputs": [
    {
     "name": "stdout",
     "output_type": "stream",
     "text": [
      "masukan pilihan : 1.ganjil | 2.genap : 2\n",
      "0\n",
      "2\n",
      "4\n",
      "6\n",
      "8\n"
     ]
    }
   ],
   "source": [
    "#maulana ibnu \n",
    "#no 3_perulangan bilangan ganjil\n",
    "\n",
    "pilihan = int(input(\"masukan pilihan : 1.ganjil | 2.genap : \"))\n",
    "\n",
    "if pilihan == 1:\n",
    "    for x in range(10):\n",
    "        if x % 2== 1:\n",
    "            print(x)\n",
    "            \n",
    "else:\n",
    "    for x in range (10):\n",
    "        if x % 2 == 0:\n",
    "            print(x)"
   ]
  },
  {
   "cell_type": "code",
   "execution_count": 10,
   "metadata": {},
   "outputs": [
    {
     "name": "stdout",
     "output_type": "stream",
     "text": [
      "masukan nomer = 3\n",
      "3 ini adalah bilangan ganjil \n",
      "None\n"
     ]
    }
   ],
   "source": [
    "#maulana ibnu\n",
    "#no 3\n",
    "\n",
    "Angka = int(input(\"masukan nomer = \"))\n",
    "def bilangan_genap():\n",
    "    print(Angka,\"ini adalah bilangan genap \")\n",
    "def bilangan_ganjil():\n",
    "    print(Angka,\"ini adalah bilangan ganjil \")\n",
    "if Angka%2 !=0:\n",
    "        print(bilangan_ganjil())\n",
    "else :\n",
    "    print(bilangan_genap())"
   ]
  },
  {
   "cell_type": "code",
   "execution_count": null,
   "metadata": {},
   "outputs": [],
   "source": []
  }
 ],
 "metadata": {
  "kernelspec": {
   "display_name": "Python 3",
   "language": "python",
   "name": "python3"
  },
  "language_info": {
   "codemirror_mode": {
    "name": "ipython",
    "version": 3
   },
   "file_extension": ".py",
   "mimetype": "text/x-python",
   "name": "python",
   "nbconvert_exporter": "python",
   "pygments_lexer": "ipython3",
   "version": "3.8.3"
  }
 },
 "nbformat": 4,
 "nbformat_minor": 4
}
