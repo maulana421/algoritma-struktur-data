{
 "cells": [
  {
   "cell_type": "code",
   "execution_count": 2,
   "metadata": {},
   "outputs": [
    {
     "name": "stdout",
     "output_type": "stream",
     "text": [
      "masukan nilai anda :50\n",
      "kamu harus remidi\n"
     ]
    }
   ],
   "source": [
    "nilai= int(input(\"masukan nilai anda :\"))\n",
    "if nilai <65:\n",
    "    print(\"kamu harus remidi\")"
   ]
  },
  {
   "cell_type": "code",
   "execution_count": 9,
   "metadata": {},
   "outputs": [
    {
     "name": "stdout",
     "output_type": "stream",
     "text": [
      "masukan jari jari : 7\n",
      "luas =  153.86\n",
      "Lingkaran ini kecil\n"
     ]
    }
   ],
   "source": [
    "LL = int(input(\"masukan jari jari : \"))\n",
    "Luas = 3.14*LL*LL\n",
    "print (\"luas = \",Luas)\n",
    "if Luas > 314 :\n",
    "    print (\"Lingkaran ini besar\")\n",
    "else :\n",
    "    print(\"Lingkaran ini kecil\")"
   ]
  },
  {
   "cell_type": "code",
   "execution_count": 14,
   "metadata": {},
   "outputs": [
    {
     "name": "stdout",
     "output_type": "stream",
     "text": [
      "masukan nomor program : 2\n",
      "sisi : 5\n",
      "jadi volume kubus : 125\n"
     ]
    }
   ],
   "source": [
    "program=int(input(\"masukan nomor program : \"))\n",
    "def c():\n",
    "    p=int(input(\"panjang : \"))\n",
    "    l=int(input(\"lebar : \"))\n",
    "    t=int(input(\"tinggi : \"))\n",
    "    vb = (p*l*t)\n",
    "    return vb\n",
    "def d():\n",
    "    s=int(input(\"sisi : \"))\n",
    "    vk = (s*s*s)\n",
    "    return vk\n",
    "if program == 1:\n",
    "    print(\"jadi volume balok :\", c())\n",
    "elif program == 2:\n",
    "    print(\"jadi volume kubus :\", d())\n",
    "else:\n",
    "    print(\"program tidak tersedia\")"
   ]
  }
 ],
 "metadata": {
  "kernelspec": {
   "display_name": "Python 3",
   "language": "python",
   "name": "python3"
  },
  "language_info": {
   "codemirror_mode": {
    "name": "ipython",
    "version": 3
   },
   "file_extension": ".py",
   "mimetype": "text/x-python",
   "name": "python",
   "nbconvert_exporter": "python",
   "pygments_lexer": "ipython3",
   "version": "3.8.3"
  }
 },
 "nbformat": 4,
 "nbformat_minor": 4
}
